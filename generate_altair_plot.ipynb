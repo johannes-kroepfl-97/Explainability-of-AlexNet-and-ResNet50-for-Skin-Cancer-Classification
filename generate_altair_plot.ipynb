{
 "cells": [
  {
   "cell_type": "code",
   "execution_count": 1,
   "id": "799d768e",
   "metadata": {},
   "outputs": [
    {
     "name": "stderr",
     "output_type": "stream",
     "text": [
      "C:\\Users\\kroep\\anaconda3\\envs\\standard_env\\lib\\site-packages\\numpy\\_distributor_init.py:30: UserWarning: loaded more than 1 DLL from .libs:\n",
      "C:\\Users\\kroep\\anaconda3\\envs\\standard_env\\lib\\site-packages\\numpy\\.libs\\libopenblas.GK7GX5KEQ4F6UYO3P26ULGBQYHGQO7J4.gfortran-win_amd64.dll\n",
      "C:\\Users\\kroep\\anaconda3\\envs\\standard_env\\lib\\site-packages\\numpy\\.libs\\libopenblas.PYQHXLVVQ7VESDPUVUADXEVJOBGHJPAY.gfortran-win_amd64.dll\n",
      "C:\\Users\\kroep\\anaconda3\\envs\\standard_env\\lib\\site-packages\\numpy\\.libs\\libopenblas.WCDJNK7YVMPZQ2ME2ZZHJJRJ3JIKNDB7.gfortran-win_amd64.dll\n",
      "  warnings.warn(\"loaded more than 1 DLL from .libs:\"\n"
     ]
    },
    {
     "data": {
      "text/plain": [
       "RendererRegistry.enable('html')"
      ]
     },
     "execution_count": 1,
     "metadata": {},
     "output_type": "execute_result"
    }
   ],
   "source": [
    "import os\n",
    "import altair as alt\n",
    "import numpy as np\n",
    "import seaborn as sns\n",
    "import pandas as pd\n",
    "import ipywidgets as widgets\n",
    "import matplotlib.pyplot as plt \n",
    "import matplotlib.gridspec as gridspec\n",
    "from vega_datasets import data\n",
    "from ast import literal_eval\n",
    "alt.renderers.enable('html')"
   ]
  },
  {
   "cell_type": "code",
   "execution_count": 2,
   "id": "7cb71933",
   "metadata": {},
   "outputs": [],
   "source": [
    "def concatenate_files_in_folder(folder_path):\n",
    "    files = os.listdir(folder_path)\n",
    "    df_list = []\n",
    "\n",
    "    for filename in files:\n",
    "        df = pd.read_pickle(os.path.join(folder_path, filename))\n",
    "        df_list.append(df)\n",
    "\n",
    "    final_df = pd.concat(df_list, ignore_index=True)\n",
    "    return final_df"
   ]
  },
  {
   "cell_type": "code",
   "execution_count": 3,
   "id": "bcf737ce",
   "metadata": {},
   "outputs": [],
   "source": [
    "folder_path = 'generated_df_data'\n",
    "df = concatenate_files_in_folder(folder_path)"
   ]
  },
  {
   "cell_type": "code",
   "execution_count": 4,
   "id": "eef7d554",
   "metadata": {},
   "outputs": [
    {
     "data": {
      "text/html": [
       "<div>\n",
       "<style scoped>\n",
       "    .dataframe tbody tr th:only-of-type {\n",
       "        vertical-align: middle;\n",
       "    }\n",
       "\n",
       "    .dataframe tbody tr th {\n",
       "        vertical-align: top;\n",
       "    }\n",
       "\n",
       "    .dataframe thead th {\n",
       "        text-align: right;\n",
       "    }\n",
       "</style>\n",
       "<table border=\"1\" class=\"dataframe\">\n",
       "  <thead>\n",
       "    <tr style=\"text-align: right;\">\n",
       "      <th></th>\n",
       "      <th>name</th>\n",
       "      <th>epoch</th>\n",
       "      <th>lr</th>\n",
       "      <th>classifier.weight</th>\n",
       "      <th>classifier.bias</th>\n",
       "      <th>confusion_matrix</th>\n",
       "      <th>train_errs</th>\n",
       "      <th>valid_errs</th>\n",
       "      <th>used_data_augmentation</th>\n",
       "    </tr>\n",
       "  </thead>\n",
       "  <tbody>\n",
       "    <tr>\n",
       "      <th>0</th>\n",
       "      <td>alexnet_LearningRate0001_DataAugmentation</td>\n",
       "      <td>0</td>\n",
       "      <td>0.0001</td>\n",
       "      <td>[[-0.024915101, -0.037159484, 0.016508136, 0.0...</td>\n",
       "      <td>[0.003112957, -0.025721112, -0.031407874, 0.01...</td>\n",
       "      <td>[[0, 0, 0, 0, 31, 0, 1], [0, 0, 0, 0, 48, 0, 1...</td>\n",
       "      <td>1.128776</td>\n",
       "      <td>0.947963</td>\n",
       "      <td>True</td>\n",
       "    </tr>\n",
       "    <tr>\n",
       "      <th>1</th>\n",
       "      <td>alexnet_LearningRate0001_DataAugmentation</td>\n",
       "      <td>1</td>\n",
       "      <td>0.0001</td>\n",
       "      <td>[[-0.026296495, -0.043382544, 0.015737256, 0.0...</td>\n",
       "      <td>[0.0034747482, -0.026109323, -0.031466786, 0.0...</td>\n",
       "      <td>[[0, 0, 4, 0, 26, 0, 2], [0, 0, 5, 0, 40, 0, 4...</td>\n",
       "      <td>1.001434</td>\n",
       "      <td>0.891921</td>\n",
       "      <td>True</td>\n",
       "    </tr>\n",
       "    <tr>\n",
       "      <th>2</th>\n",
       "      <td>alexnet_LearningRate0001_DataAugmentation</td>\n",
       "      <td>2</td>\n",
       "      <td>0.0001</td>\n",
       "      <td>[[-0.02675558, -0.048951242, 0.014891514, 0.02...</td>\n",
       "      <td>[0.0032282542, -0.026442608, -0.031296592, 0.0...</td>\n",
       "      <td>[[0, 0, 5, 0, 24, 0, 3], [0, 0, 8, 0, 37, 0, 4...</td>\n",
       "      <td>0.972001</td>\n",
       "      <td>0.866524</td>\n",
       "      <td>True</td>\n",
       "    </tr>\n",
       "    <tr>\n",
       "      <th>3</th>\n",
       "      <td>alexnet_LearningRate0001_DataAugmentation</td>\n",
       "      <td>3</td>\n",
       "      <td>0.0001</td>\n",
       "      <td>[[-0.027105426, -0.053888228, 0.014519505, 0.0...</td>\n",
       "      <td>[0.002993757, -0.027054453, -0.030998982, 0.01...</td>\n",
       "      <td>[[0, 1, 7, 0, 21, 0, 3], [0, 3, 7, 0, 34, 0, 5...</td>\n",
       "      <td>0.943033</td>\n",
       "      <td>0.851340</td>\n",
       "      <td>True</td>\n",
       "    </tr>\n",
       "    <tr>\n",
       "      <th>4</th>\n",
       "      <td>alexnet_LearningRate0001_DataAugmentation</td>\n",
       "      <td>4</td>\n",
       "      <td>0.0001</td>\n",
       "      <td>[[-0.027789587, -0.05788597, 0.0144679025, 0.0...</td>\n",
       "      <td>[0.0029351737, -0.027219074, -0.030957378, 0.0...</td>\n",
       "      <td>[[0, 4, 7, 0, 19, 0, 2], [0, 7, 4, 0, 33, 0, 5...</td>\n",
       "      <td>0.935439</td>\n",
       "      <td>0.844849</td>\n",
       "      <td>True</td>\n",
       "    </tr>\n",
       "  </tbody>\n",
       "</table>\n",
       "</div>"
      ],
      "text/plain": [
       "                                        name epoch      lr  \\\n",
       "0  alexnet_LearningRate0001_DataAugmentation     0  0.0001   \n",
       "1  alexnet_LearningRate0001_DataAugmentation     1  0.0001   \n",
       "2  alexnet_LearningRate0001_DataAugmentation     2  0.0001   \n",
       "3  alexnet_LearningRate0001_DataAugmentation     3  0.0001   \n",
       "4  alexnet_LearningRate0001_DataAugmentation     4  0.0001   \n",
       "\n",
       "                                   classifier.weight  \\\n",
       "0  [[-0.024915101, -0.037159484, 0.016508136, 0.0...   \n",
       "1  [[-0.026296495, -0.043382544, 0.015737256, 0.0...   \n",
       "2  [[-0.02675558, -0.048951242, 0.014891514, 0.02...   \n",
       "3  [[-0.027105426, -0.053888228, 0.014519505, 0.0...   \n",
       "4  [[-0.027789587, -0.05788597, 0.0144679025, 0.0...   \n",
       "\n",
       "                                     classifier.bias  \\\n",
       "0  [0.003112957, -0.025721112, -0.031407874, 0.01...   \n",
       "1  [0.0034747482, -0.026109323, -0.031466786, 0.0...   \n",
       "2  [0.0032282542, -0.026442608, -0.031296592, 0.0...   \n",
       "3  [0.002993757, -0.027054453, -0.030998982, 0.01...   \n",
       "4  [0.0029351737, -0.027219074, -0.030957378, 0.0...   \n",
       "\n",
       "                                    confusion_matrix  train_errs  valid_errs  \\\n",
       "0  [[0, 0, 0, 0, 31, 0, 1], [0, 0, 0, 0, 48, 0, 1...    1.128776    0.947963   \n",
       "1  [[0, 0, 4, 0, 26, 0, 2], [0, 0, 5, 0, 40, 0, 4...    1.001434    0.891921   \n",
       "2  [[0, 0, 5, 0, 24, 0, 3], [0, 0, 8, 0, 37, 0, 4...    0.972001    0.866524   \n",
       "3  [[0, 1, 7, 0, 21, 0, 3], [0, 3, 7, 0, 34, 0, 5...    0.943033    0.851340   \n",
       "4  [[0, 4, 7, 0, 19, 0, 2], [0, 7, 4, 0, 33, 0, 5...    0.935439    0.844849   \n",
       "\n",
       "  used_data_augmentation  \n",
       "0                   True  \n",
       "1                   True  \n",
       "2                   True  \n",
       "3                   True  \n",
       "4                   True  "
      ]
     },
     "execution_count": 4,
     "metadata": {},
     "output_type": "execute_result"
    }
   ],
   "source": [
    "df.head()"
   ]
  },
  {
   "cell_type": "code",
   "execution_count": 5,
   "id": "25154c6e",
   "metadata": {},
   "outputs": [
    {
     "data": {
      "text/plain": [
       "array(['alexnet_LearningRate0001_DataAugmentation',\n",
       "       'alexnet_LearningRate0001_NoDataAugmentation',\n",
       "       'alexnet_LearningRate001_DataAugmentation',\n",
       "       'alexnet_LearningRate001_NoDataAugmentation',\n",
       "       'resnet50_LearningRate0001_DataAugmentation',\n",
       "       'resnet50_LearningRate0001_NoDataAugmentation',\n",
       "       'resnet50_LearningRate001_DataAugmentation',\n",
       "       'resnet50_LearningRate001_NoDataAugmentation'], dtype=object)"
      ]
     },
     "execution_count": 5,
     "metadata": {},
     "output_type": "execute_result"
    }
   ],
   "source": [
    "df['name'].unique()"
   ]
  },
  {
   "cell_type": "code",
   "execution_count": 6,
   "id": "8c590176",
   "metadata": {},
   "outputs": [],
   "source": [
    "conf_matr_dict = dict()\n",
    "\n",
    "for model_name in df['name'].unique():\n",
    "    conf_matr_dict[model_name] = df[df['name'].str.contains(model_name)].confusion_matrix"
   ]
  },
  {
   "cell_type": "markdown",
   "id": "8c47a27f",
   "metadata": {},
   "source": [
    "### Inspection of training porcess with altair"
   ]
  },
  {
   "cell_type": "code",
   "execution_count": 8,
   "id": "6fcaae17",
   "metadata": {},
   "outputs": [],
   "source": [
    "for model_name in df['name'].unique():\n",
    "    conf_matr_series = df[df['name'].str.contains(model_name)].confusion_matrix\n",
    "    conf_matr_series.reset_index(drop=True, inplace=True)\n",
    "    conf_matr_dict[model_name] = conf_matr_series"
   ]
  },
  {
   "cell_type": "code",
   "execution_count": 9,
   "id": "cbcfc912",
   "metadata": {},
   "outputs": [
    {
     "data": {
      "application/vnd.jupyter.widget-view+json": {
       "model_id": "5d82cd76ec28475686188130e6813200",
       "version_major": 2,
       "version_minor": 0
      },
      "text/plain": [
       "interactive(children=(Dropdown(description='model', options=('alexnet', 'resnet'), value='alexnet'), Dropdown(…"
      ]
     },
     "metadata": {},
     "output_type": "display_data"
    }
   ],
   "source": [
    "import matplotlib.pyplot as plt\n",
    "import matplotlib.gridspec as gridspec\n",
    "import seaborn as sns\n",
    "import numpy as np\n",
    "\n",
    "@widgets.interact(model=['alexnet', 'resnet'], lr=[1e-4, 1e-3], data_transf=[True,False], \n",
    "                  epoch_matr=widgets.IntSlider(min=1, max=125, step=1, value=1))\n",
    "def plot_epoch_acc(model, lr, data_transf, epoch_matr):\n",
    "    \n",
    "    model_name = ''\n",
    "    model_name += 'resnet50' if model=='resnet' else 'alexnet'\n",
    "    model_name += '_LearningRate001' if lr==1e-3 else '_LearningRate0001'\n",
    "    model_name += '_DataAugmentation' if data_transf else '_NoDataAugmentation'\n",
    "    \n",
    "    print(model_name)\n",
    "\n",
    "    epoch_length = len(conf_matr_dict[model_name])\n",
    "\n",
    "    bal_acc_list = np.array([np.diag(conf_matr_dict[model_name][i])/conf_matr_dict[model_name][i].sum(axis=1) \n",
    "                             for i in range(epoch_length)]).T\n",
    "    \n",
    "    acc_list = np.array([np.diag(conf_matr_dict[model_name][i]).sum()/conf_matr_dict[model_name][i].sum() \n",
    "                         for i in range(epoch_length)])\n",
    "    \n",
    "    acc_list = acc_list.reshape(1, (len(acc_list)))\n",
    "\n",
    "    # Create 3x3 sub plots\n",
    "    gs = gridspec.GridSpec(3, 3)\n",
    "    \n",
    "    # Add subplots\n",
    "    fig = plt.figure(figsize=(20, 12))\n",
    "    ax1 = fig.add_subplot(gs[0, :])\n",
    "    ax2 = fig.add_subplot(gs[1, :])\n",
    "    ax3 = fig.add_subplot(gs[2, 0])\n",
    "    ax4 = fig.add_subplot(gs[2, 1])\n",
    "    ax5 = fig.add_subplot(gs[2, 2])\n",
    "    \n",
    "    sns.heatmap(bal_acc_list, cmap='Blues', ax=ax1)\n",
    "    ax1.set_title('Accuracy per class and epoch')\n",
    "    ax1.set_xlabel('Epochs of training')\n",
    "    ax1.set_ylabel('Classes')\n",
    "\n",
    "    sns.heatmap(acc_list, cmap='Blues', ax=ax2)\n",
    "    ax2.set_title('Accuracy per epoch')\n",
    "    ax2.set_xlabel('Epochs of training')\n",
    "    ax2.set_ylabel('Accuracy')\n",
    "\n",
    "    epoch_range = list(range(max(0, epoch_matr - 2), min(epoch_matr + 1, epoch_length)))\n",
    "    for idx, ax in zip(epoch_range, [ax3, ax4, ax5]):\n",
    "        sns.heatmap(conf_matr_dict[model_name][idx], cmap='Blues', annot=True, ax=ax)\n",
    "        ax.set_title(f'Confusion matrix for epoch {idx+1}')\n",
    "        ax.set_xlabel('Actual labels')\n",
    "        ax.set_ylabel('Predicted labels')\n",
    "    \n",
    "    fig.tight_layout(pad=1.5)\n",
    "\n",
    "    plt.show()"
   ]
  }
 ],
 "metadata": {
  "kernelspec": {
   "display_name": "Python [conda env:standard_env] *",
   "language": "python",
   "name": "conda-env-standard_env-py"
  },
  "language_info": {
   "codemirror_mode": {
    "name": "ipython",
    "version": 3
   },
   "file_extension": ".py",
   "mimetype": "text/x-python",
   "name": "python",
   "nbconvert_exporter": "python",
   "pygments_lexer": "ipython3",
   "version": "3.8.13"
  }
 },
 "nbformat": 4,
 "nbformat_minor": 5
}
